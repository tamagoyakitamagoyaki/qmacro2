{
  "nbformat": 4,
  "nbformat_minor": 0,
  "metadata": {
    "colab": {
      "provenance": [],
      "authorship_tag": "ABX9TyPFg0KUXjfxcuIGqbt2sJk+",
      "include_colab_link": true
    },
    "kernelspec": {
      "name": "python3",
      "display_name": "Python 3"
    },
    "language_info": {
      "name": "python"
    }
  },
  "cells": [
    {
      "cell_type": "markdown",
      "metadata": {
        "id": "view-in-github",
        "colab_type": "text"
      },
      "source": [
        "<a href=\"https://colab.research.google.com/github/tamagoyakitamagoyaki/qmacro2/blob/main/4.ipynb\" target=\"_parent\"><img src=\"https://colab.research.google.com/assets/colab-badge.svg\" alt=\"Open In Colab\"/></a>"
      ]
    },
    {
      "cell_type": "code",
      "execution_count": null,
      "metadata": {
        "id": "Cart05fUvNkJ"
      },
      "outputs": [],
      "source": [
        "import numpy as np\n",
        "from scipy.stats import norm\n",
        "\n",
        "def tauchen(n, mu, rho, sigma):\n",
        "\n",
        "    # n: number of grid points\n",
        "    # mu: mean of the AR(1) process\n",
        "    # rho: AR(1) coeffient\n",
        "    # sigma: standard deviatin of the error term\n",
        "\n",
        "    m = 1 / np.sqrt(1 - rho**2)\n",
        "\n",
        "    # compute the state space\n",
        "    state_space = np.linspace(mu - m*sigma, mu + m*sigma, n)\n",
        "\n",
        "    # compute the distance between grid points\n",
        "    d = (state_space[n-1] - state_space[0]) / (n-1)\n",
        "\n",
        "    # compute the transition probabilities\n",
        "    transition_matrix = np.zeros((n, n))\n",
        "\n",
        "    for i in range(n):\n",
        "        for j in range(n):\n",
        "            if j==0:\n",
        "                transition_matrix[i, 0] = norm.cdf((state_space[0] - rho*state_space[i] + d/2)/sigma)\n",
        "            elif j==n-1:\n",
        "                transition_matrix[i, n-1] = 1.0 - norm.cdf((state_space[n-1] - rho*state_space[i] - d/2)/sigma)\n",
        "            else:\n",
        "                transition_matrix[i, j] = norm.cdf((state_space[j] - rho*state_space[i] + d/2)/sigma) - norm.cdf((state_space[j] - rho*state_space[i] - d/2)/sigma)\n",
        "\n",
        "    return transition_matrix, state_space\n"
      ]
    },
    {
      "cell_type": "code",
      "source": [
        "# function to compile parameters into one thing \"param\"\n",
        "def setPar(\n",
        "    sigma = 1.5, # risk aversion\n",
        "    beta = 0.1, # subject discount factor\n",
        "    rho = 0.6, # labor productivity persistence\n",
        "    sigma_eps = 0.6, # labor productivity std\n",
        "    a_l = 0, # lower bound of asset grids\n",
        "    a_u = 20, # upper bound of asset grids\n",
        "    NA = 401, # number of grids of a\n",
        "    NH = 2, # number of grids of h\n",
        "    mu_h = -0.7, # mean of log h\n",
        "    alpha = 0.25,\n",
        "    delta = 0.03,\n",
        "    ):\n",
        "\n",
        "    # # create a grid of asset holdings\n",
        "    # a = np.linspace(a_l, a_u, NA)\n",
        "\n",
        "    # making grids for ln h and solving for income transition probability using Tauchen's method\n",
        "    pi, h = tauchen(NH, mu_h, rho, sigma_eps)\n",
        "    h = np.exp(h)\n",
        "\n",
        "    # create dictionary with parameters\n",
        "    param = {}\n",
        "    param['sigma'] = sigma\n",
        "    param['beta'] = beta\n",
        "    param['pi'] = pi\n",
        "    param['h'] = h\n",
        "    param['NA'] = NA\n",
        "    param['NH'] = NH\n",
        "    param['a_l'] = a_l\n",
        "    param['a_u'] = a_u\n",
        "    param['alpha'] = alpha\n",
        "    param['delta'] = delta\n",
        "\n",
        "    return param\n"
      ],
      "metadata": {
        "id": "Mp7DDFsFwo4y"
      },
      "execution_count": null,
      "outputs": []
    },
    {
      "cell_type": "code",
      "source": [
        "def solve_household(param, r, w):\n",
        "    # opening the box of param\n",
        "    NA = param['NA']\n",
        "    NH = param['NH']\n",
        "    h = param['h']\n",
        "    a_l = param['a_l']\n",
        "    a_u = param['a_u']\n",
        "    sigma = param['sigma']\n",
        "    beta = param['beta']\n",
        "    pi = param['pi']\n",
        "\n",
        "    # create a grid of asset holdings\n",
        "    a = np.linspace(a_l, a_u, NA)\n",
        "\n",
        "    util = np.full((NA, NA, NH), -10000.0)\n",
        "    # calculate utility if the agent chooses asset a[iap] for (a[ia]), h[ih])\n",
        "    for ia in range(NA):\n",
        "        for ih in range(NH):\n",
        "            for iap in range(NA):\n",
        "                cons = w*h[ih] + (1.0 + r)*a[ia] - a[iap]\n",
        "                if cons > 0: # count only if consumption is positive\n",
        "                    util[iap, ia, ih] = cons**(1.0-sigma)/(1.0-sigma)\n",
        "\n",
        "    # Initialize some variables\n",
        "    v = np.zeros((NA, NH))\n",
        "    c = np.zeros((NA, NH))\n",
        "    aplus = np.zeros((NA, NH))\n",
        "    v_new = np.zeros((NA, NH))\n",
        "    iaplus = np.full((NA, NH), -10000)\n",
        "\n",
        "    # iterate on bellman's equation and get the decision rules and the value function\n",
        "    tol = 1e-6\n",
        "    test = 10.0\n",
        "    reward = np.zeros((NA, NA, NH))\n",
        "\n",
        "    while test > tol: # loop until value function converges\n",
        "        for ia in range(NA):\n",
        "            for ih in range(NH):\n",
        "                reward[:, ia, ih] = util[:, ia, ih]\n",
        "                for ihp in range(NH):\n",
        "                    reward[:, ia, ih] += beta*pi[ih, ihp]*v[:, ihp]\n",
        "\n",
        "                v_new[ia, ih] = np.max(reward[:, ia, ih])\n",
        "                iaplus[ia, ih] = np.argmax(reward[:, ia, ih])\n",
        "\n",
        "        test = np.max(abs(v_new - v))\n",
        "        v = v_new\n",
        "\n",
        "    # asset policy function\n",
        "    aplus = a[iaplus]\n",
        "\n",
        "    # consumption policy function\n",
        "    for ia in range(NA):\n",
        "        for ih in range(NH):\n",
        "            c[ia, ih] = w*h[ih] + (1.0 + r)*a[ia] - aplus[ia, ih]\n",
        "\n",
        "    return aplus, iaplus, c\n"
      ],
      "metadata": {
        "id": "Gs_Zhvdhw2Wc"
      },
      "execution_count": null,
      "outputs": []
    },
    {
      "cell_type": "code",
      "source": [
        "def solve_household(param, r, w):\n",
        "    # opening the box of param\n",
        "    NA = param['NA']\n",
        "    NH = param['NH']\n",
        "    h = param['h']\n",
        "    a_l = param['a_l']\n",
        "    a_u = param['a_u']\n",
        "    sigma = param['sigma']\n",
        "    beta = param['beta']\n",
        "    pi = param['pi']\n",
        "\n",
        "    # create a grid of asset holdings\n",
        "    a = np.linspace(a_l, a_u, NA)\n",
        "\n",
        "    util = np.full((NA, NA, NH), -10000.0)\n",
        "    # calculate utility if the agent chooses asset a[iap] for (a[ia]), h[ih])\n",
        "    for ia in range(NA):\n",
        "        for ih in range(NH):\n",
        "            for iap in range(NA):\n",
        "                cons = w*h[ih] + (1.0 + r)*a[ia] - a[iap]\n",
        "                if cons > 0: # count only if consumption is positive\n",
        "                    util[iap, ia, ih] = cons**(1.0-sigma)/(1.0-sigma)\n",
        "\n",
        "    # Initialize some variables\n",
        "    v = np.zeros((NA, NH))\n",
        "    c = np.zeros((NA, NH))\n",
        "    aplus = np.zeros((NA, NH))\n",
        "    v_new = np.zeros((NA, NH))\n",
        "    iaplus = np.full((NA, NH), -10000)\n",
        "\n",
        "    # iterate on bellman's equation and get the decision rules and the value function\n",
        "    tol = 1e-6\n",
        "    test = 10.0\n",
        "    reward = np.zeros((NA, NA, NH))\n",
        "\n",
        "    while test > tol: # loop until value function converges\n",
        "        for ia in range(NA):\n",
        "            for ih in range(NH):\n",
        "                reward[:, ia, ih] = util[:, ia, ih]\n",
        "                for ihp in range(NH):\n",
        "                    reward[:, ia, ih] += beta*pi[ih, ihp]*v[:, ihp]\n",
        "\n",
        "                v_new[ia, ih] = np.max(reward[:, ia, ih])\n",
        "                iaplus[ia, ih] = np.argmax(reward[:, ia, ih])\n",
        "\n",
        "        test = np.max(abs(v_new - v))\n",
        "        v = v_new\n",
        "\n",
        "    # asset policy function\n",
        "    aplus = a[iaplus]\n",
        "\n",
        "    # consumption policy function\n",
        "    for ia in range(NA):\n",
        "        for ih in range(NH):\n",
        "            c[ia, ih] = w*h[ih] + (1.0 + r)*a[ia] - aplus[ia, ih]\n",
        "\n",
        "    return aplus, iaplus, c\n"
      ],
      "metadata": {
        "id": "FzSsroM6w3rm"
      },
      "execution_count": null,
      "outputs": []
    },
    {
      "cell_type": "code",
      "source": [
        "import matplotlib.pyplot as plt\n",
        "\n",
        "# setting prices\n",
        "r = 0.04 # interest rate\n",
        "w = 1 # wage\n",
        "\n",
        "param = setPar() # parameters\n",
        "decisions = solve_household(param, r, w) # HH problem\n",
        "aplus = decisions[0]\n",
        "c = decisions[2]\n",
        "\n",
        "# grids for figures\n",
        "a_l = param['a_l']\n",
        "a_u = param['a_u']\n",
        "NA = param['NA']\n",
        "a = np.linspace(a_l, a_u, NA)\n",
        "\n",
        "# saving rate for low h\n",
        "plt.plot(a, aplus[:, 0]/(c[:, 0] + aplus[:, 0]), label='low')\n",
        "plt.xlabel(\"asset\")\n",
        "plt.ylabel(\"savings rate\")\n",
        "\n",
        "# saving rate for high h\n",
        "plt.plot(a, aplus[:, 1]/(c[:, 1] + aplus[:, 1]), label='high')\n",
        "plt.xlabel(\"asset\")\n",
        "plt.ylabel(\"savings rate\")\n",
        "\n",
        "plt.legend()\n",
        "\n",
        "\n",
        "\n"
      ],
      "metadata": {
        "id": "9r_rDB7Tw_tI",
        "outputId": "73eda863-d852-4e38-86d2-1f400d9c3637",
        "colab": {
          "base_uri": "https://localhost:8080/",
          "height": 467
        }
      },
      "execution_count": null,
      "outputs": [
        {
          "output_type": "execute_result",
          "data": {
            "text/plain": [
              "<matplotlib.legend.Legend at 0x7cb4660e1ba0>"
            ]
          },
          "metadata": {},
          "execution_count": 5
        },
        {
          "output_type": "display_data",
          "data": {
            "text/plain": [
              "<Figure size 640x480 with 1 Axes>"
            ],
            "image/png": "[encoded data removed]"
          },
          "metadata": {}
        }
      ]
    }
  ]
}